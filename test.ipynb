{
 "cells": [
  {
   "cell_type": "code",
   "execution_count": 2,
   "metadata": {},
   "outputs": [],
   "source": [
    "from jax import (\n",
    "    numpy as jnp , scipy as jsp , random as jrnd \n",
    "    , vmap , jit , config\n",
    ")\n",
    "from functools import partial\n",
    "from collections import namedtuple "
   ]
  },
  {
   "cell_type": "code",
   "execution_count": 82,
   "metadata": {},
   "outputs": [],
   "source": [
    "Experement = namedtuple (\n",
    "    typename= \"Experement\",\n",
    "    field_names= [\"name\" , \"random_variable\" ,\"args\",\"results\"],\n",
    "    module = \"CLT\"\n",
    ")\n",
    "Experement.__new__.__defaults__()"
   ]
  },
  {
   "cell_type": "code",
   "execution_count": 79,
   "metadata": {},
   "outputs": [
    {
     "ename": "TypeError",
     "evalue": "'NoneType' object is not callable",
     "output_type": "error",
     "traceback": [
      "\u001b[0;31m---------------------------------------------------------------------------\u001b[0m",
      "\u001b[0;31mTypeError\u001b[0m                                 Traceback (most recent call last)",
      "Cell \u001b[0;32mIn[79], line 7\u001b[0m\n\u001b[1;32m      1\u001b[0m poisson_rv \u001b[38;5;241m=\u001b[39m jsp\u001b[38;5;241m.\u001b[39mstats\u001b[38;5;241m.\u001b[39mpoisson\u001b[38;5;241m.\u001b[39mpmf\n\u001b[1;32m      2\u001b[0m arguments \u001b[38;5;241m=\u001b[39m {\n\u001b[1;32m      3\u001b[0m     \u001b[38;5;124m\"\u001b[39m\u001b[38;5;124mk\u001b[39m\u001b[38;5;124m\"\u001b[39m : jnp\u001b[38;5;241m.\u001b[39marange(\u001b[38;5;241m0\u001b[39m,\u001b[38;5;241m10\u001b[39m) ,\n\u001b[1;32m      4\u001b[0m     \u001b[38;5;124m\"\u001b[39m\u001b[38;5;124mmu\u001b[39m\u001b[38;5;124m\"\u001b[39m: \u001b[38;5;241m1\u001b[39m ,\n\u001b[1;32m      5\u001b[0m     \u001b[38;5;124m\"\u001b[39m\u001b[38;5;124mloc\u001b[39m\u001b[38;5;124m\"\u001b[39m : \u001b[38;5;241m0\u001b[39m\n\u001b[1;32m      6\u001b[0m }\n\u001b[0;32m----> 7\u001b[0m experement_1 \u001b[38;5;241m=\u001b[39m \u001b[43mExperement\u001b[49m\u001b[43m \u001b[49m\u001b[43m(\u001b[49m\n\u001b[1;32m      8\u001b[0m \u001b[43m    \u001b[49m\u001b[43mname\u001b[49m\u001b[43m \u001b[49m\u001b[38;5;241;43m=\u001b[39;49m\u001b[43m \u001b[49m\u001b[38;5;124;43m\"\u001b[39;49m\u001b[38;5;124;43mPoisson\u001b[39;49m\u001b[38;5;124;43m\"\u001b[39;49m\u001b[43m,\u001b[49m\n\u001b[1;32m      9\u001b[0m \u001b[43m    \u001b[49m\u001b[43mrandom_variable\u001b[49m\u001b[38;5;241;43m=\u001b[39;49m\u001b[43mpoisson_rv\u001b[49m\u001b[43m,\u001b[49m\n\u001b[1;32m     10\u001b[0m \u001b[43m    \u001b[49m\u001b[43margs\u001b[49m\u001b[43m \u001b[49m\u001b[38;5;241;43m=\u001b[39;49m\u001b[43m \u001b[49m\u001b[43marguments\u001b[49m\u001b[43m \u001b[49m\u001b[43m,\u001b[49m\n\u001b[1;32m     11\u001b[0m \u001b[43m)\u001b[49m\n\u001b[1;32m     13\u001b[0m \u001b[38;5;28;01mdef\u001b[39;00m \u001b[38;5;21mapply\u001b[39m (experement  : namedtuple ):\n\u001b[1;32m     14\u001b[0m     _ , rv , args  \u001b[38;5;241m=\u001b[39m \u001b[38;5;28mtuple\u001b[39m (\u001b[38;5;28mmap\u001b[39m (experement\u001b[38;5;241m.\u001b[39m\u001b[38;5;21m__getattribute__\u001b[39m, experement\u001b[38;5;241m.\u001b[39m_fields))\n",
      "\u001b[0;31mTypeError\u001b[0m: 'NoneType' object is not callable"
     ]
    }
   ],
   "source": [
    "poisson_rv = jsp.stats.poisson.pmf\n",
    "arguments = {\n",
    "    \"k\" : jnp.arange(0,10) ,\n",
    "    \"mu\": 1 ,\n",
    "    \"loc\" : 0\n",
    "}\n",
    "experement_1 = Experement (\n",
    "    name = \"Poisson\",\n",
    "    random_variable=poisson_rv,\n",
    "    args = arguments ,\n",
    ")\n",
    "\n",
    "def apply (experement  : namedtuple ):\n",
    "    _ , rv , args  = tuple (map (experement.__getattribute__, experement._fields))\n",
    "    return experement"
   ]
  },
  {
   "cell_type": "code",
   "execution_count": null,
   "metadata": {},
   "outputs": [],
   "source": []
  }
 ],
 "metadata": {
  "kernelspec": {
   "display_name": "Python 3",
   "language": "python",
   "name": "python3"
  },
  "language_info": {
   "codemirror_mode": {
    "name": "ipython",
    "version": 3
   },
   "file_extension": ".py",
   "mimetype": "text/x-python",
   "name": "python",
   "nbconvert_exporter": "python",
   "pygments_lexer": "ipython3",
   "version": "3.12.4"
  }
 },
 "nbformat": 4,
 "nbformat_minor": 2
}
